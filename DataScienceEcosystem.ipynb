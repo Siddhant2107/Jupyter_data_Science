{
 "cells": [
  {
   "cell_type": "markdown",
   "id": "0641358d-2f2b-4930-b173-ff3f9a48fe65",
   "metadata": {},
   "source": [
    "# Data Science Tools and Ecosystem"
   ]
  },
  {
   "cell_type": "markdown",
   "id": "3117666c-f659-4c37-bc02-c32564c2811b",
   "metadata": {},
   "source": [
    "In this notebook, Data Science Tools and Ecosystem are summarized."
   ]
  },
  {
   "cell_type": "markdown",
   "id": "4b352538-5d2d-4c1e-a82b-ca1175b96ce8",
   "metadata": {},
   "source": [
    "Some of the popular languages that Data Scientists use are:\n",
    "\n",
    "- Pyhton\n",
    "- R\n",
    "- SQL"
   ]
  },
  {
   "cell_type": "markdown",
   "id": "2ea57369-6815-46ec-ae3b-a8b6749923f0",
   "metadata": {},
   "source": [
    "Some of the commonly used libraries used by Data Scientists include:\n",
    "\n",
    "- Scipy\n",
    "- Numpy\n",
    "- Matplotlib"
   ]
  },
  {
   "cell_type": "markdown",
   "id": "d8e26858-d739-4c0a-bfba-3331025bfd06",
   "metadata": {},
   "source": [
    "Data science tools: \n",
    "- Jupyternotebook\n",
    "- vscode\n",
    "- colab"
   ]
  },
  {
   "cell_type": "markdown",
   "id": "8af5334f-5220-442b-bd11-879d54924667",
   "metadata": {},
   "source": [
    "### Below are a few examples of evaluating arithmetic expressions in Python.\r\n"
   ]
  },
  {
   "cell_type": "code",
   "execution_count": 3,
   "id": "d6507e35-d1fb-466b-a0e0-2101ff28ff92",
   "metadata": {},
   "outputs": [
    {
     "name": "stdout",
     "output_type": "stream",
     "text": [
      "3.3333333333333335\n"
     ]
    }
   ],
   "source": [
    "# This will convert 200 minutes to hours by dividing by 60.\n",
    "minutes = 200\n",
    "hours = minutes / 60\n",
    "print(hours)\n"
   ]
  },
  {
   "cell_type": "code",
   "execution_count": 4,
   "id": "f397ef73-efdc-49d1-8ad7-ace08f674cc9",
   "metadata": {},
   "outputs": [
    {
     "name": "stdout",
     "output_type": "stream",
     "text": [
      "17\n"
     ]
    }
   ],
   "source": [
    "# This a simple arithmetic expression to mutiply then add integers\n",
    "a=(3*4)+5\n",
    "print(a)"
   ]
  },
  {
   "cell_type": "markdown",
   "id": "bdb1a00e-a57d-41e9-b1ad-469ecb2ece74",
   "metadata": {},
   "source": [
    "**OBJECTIVES:**\n",
    "  \n",
    "##### Popular data sicence languages:\n",
    "- Python\n",
    "- R\n",
    "- SQL\n",
    "- JAVA"
   ]
  },
  {
   "cell_type": "markdown",
   "id": "3bed5af4-bff3-4f96-8725-7fd69a2d0bad",
   "metadata": {},
   "source": [
    "## AUTHOR\n",
    "\n",
    "SIDDHANT  NIJHAWAN"
   ]
  },
  {
   "cell_type": "code",
   "execution_count": null,
   "id": "c99fa2c1-e935-4627-8225-bfdfb404b653",
   "metadata": {},
   "outputs": [],
   "source": []
  }
 ],
 "metadata": {
  "kernelspec": {
   "display_name": "Python 3 (ipykernel)",
   "language": "python",
   "name": "python3"
  },
  "language_info": {
   "codemirror_mode": {
    "name": "ipython",
    "version": 3
   },
   "file_extension": ".py",
   "mimetype": "text/x-python",
   "name": "python",
   "nbconvert_exporter": "python",
   "pygments_lexer": "ipython3",
   "version": "3.11.4"
  }
 },
 "nbformat": 4,
 "nbformat_minor": 5
}
